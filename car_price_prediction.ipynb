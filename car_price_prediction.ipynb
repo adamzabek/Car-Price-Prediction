{
 "cells": [
  {
   "cell_type": "code",
   "execution_count": 1,
   "metadata": {},
   "outputs": [],
   "source": [
    "import pandas as pd\n",
    "\n",
    "import numpy as np\n",
    "np.random.seed(0)\n",
    "\n",
    "from IPython.display import display\n",
    "import ipywidgets as widgets\n",
    "\n",
    "from sklearn.model_selection import train_test_split, KFold, StratifiedKFold, cross_val_score, cross_validate, cross_val_predict, learning_curve\n",
    "from sklearn.utils import resample\n",
    "from sklearn.metrics import mean_absolute_error\n",
    "from scikitplot.estimators import plot_learning_curve\n",
    "from functools import partial\n",
    "from catboost import CatBoostRegressor\n",
    "import xgboost as xgb\n",
    "import re\n",
    "import sys\n",
    "\n",
    "import scikitplot as skplt\n",
    "\n",
    "import brewer2mpl\n",
    "import seaborn as sns\n",
    "import matplotlib.pyplot as plt\n",
    "from collections import defaultdict\n",
    "\n",
    "%matplotlib inline"
   ]
  },
  {
   "cell_type": "code",
   "execution_count": 2,
   "metadata": {},
   "outputs": [],
   "source": [
    "# Załadowanie danych do modelu"
   ]
  },
  {
   "cell_type": "code",
   "execution_count": 3,
   "metadata": {},
   "outputs": [],
   "source": [
    "train = pd.read_hdf('../input/train.car_price.h5') # Zbiór treningowy\n",
    "test = pd.read_hdf('../input/test.car_price.h5') # Zbiór testowy bez odpowiedzi"
   ]
  },
  {
   "cell_type": "code",
   "execution_count": 4,
   "metadata": {},
   "outputs": [],
   "source": [
    "# Połączenie ze sobą zbiorów treningowego oraz testowego.\n",
    "# Wypełnienie wszystkich braków danych wartością -1."
   ]
  },
  {
   "cell_type": "code",
   "execution_count": 5,
   "metadata": {},
   "outputs": [],
   "source": [
    "df_all = pd.concat([train, test], axis=0)"
   ]
  },
  {
   "cell_type": "code",
   "execution_count": 6,
   "metadata": {},
   "outputs": [],
   "source": [
    "df_all = df_all.fillna(-1)"
   ]
  },
  {
   "cell_type": "code",
   "execution_count": 7,
   "metadata": {
    "scrolled": true
   },
   "outputs": [
    {
     "data": {
      "text/html": [
       "<div>\n",
       "<style scoped>\n",
       "    .dataframe tbody tr th:only-of-type {\n",
       "        vertical-align: middle;\n",
       "    }\n",
       "\n",
       "    .dataframe tbody tr th {\n",
       "        vertical-align: top;\n",
       "    }\n",
       "\n",
       "    .dataframe thead th {\n",
       "        text-align: right;\n",
       "    }\n",
       "</style>\n",
       "<table border=\"1\" class=\"dataframe\">\n",
       "  <thead>\n",
       "    <tr style=\"text-align: right;\">\n",
       "      <th></th>\n",
       "      <th>breadcrumb</th>\n",
       "      <th>created_at</th>\n",
       "      <th>price_currency</th>\n",
       "      <th>price_details</th>\n",
       "      <th>price_value</th>\n",
       "      <th>seller_address</th>\n",
       "      <th>seller_name</th>\n",
       "      <th>seller_type</th>\n",
       "      <th>feature_czujniki-parkowania-przednie</th>\n",
       "      <th>feature_poduszka-powietrzna-chroniąca-kolana</th>\n",
       "      <th>...</th>\n",
       "      <th>param_pearl</th>\n",
       "      <th>param_stan</th>\n",
       "      <th>param_wersja</th>\n",
       "      <th>param_emisja-co2</th>\n",
       "      <th>param_body-type</th>\n",
       "      <th>param_matowy</th>\n",
       "      <th>param_bezwypadkowy</th>\n",
       "      <th>param_akryl-(niemetalizowany)</th>\n",
       "      <th>param_monthly-payment-value</th>\n",
       "      <th>car_id</th>\n",
       "    </tr>\n",
       "  </thead>\n",
       "  <tbody>\n",
       "    <tr>\n",
       "      <th>63668</th>\n",
       "      <td>[Osobowe, Opel, Insignia]</td>\n",
       "      <td>07:54, 4 marca 2018</td>\n",
       "      <td>PLN</td>\n",
       "      <td>Cena Brutto</td>\n",
       "      <td>37900.0</td>\n",
       "      <td>GROTA ROWECKIEGO 10 - 30-348 Kraków, Łagiewnik...</td>\n",
       "      <td>F.H. AUTO HIT Tomasz Wójcikiewicz</td>\n",
       "      <td>Dealer</td>\n",
       "      <td>False</td>\n",
       "      <td>False</td>\n",
       "      <td>...</td>\n",
       "      <td>-1</td>\n",
       "      <td>Używane</td>\n",
       "      <td>-1</td>\n",
       "      <td>-1</td>\n",
       "      <td>-1</td>\n",
       "      <td>-1</td>\n",
       "      <td>Tak</td>\n",
       "      <td>-1</td>\n",
       "      <td>-1</td>\n",
       "      <td>63668</td>\n",
       "    </tr>\n",
       "    <tr>\n",
       "      <th>85811</th>\n",
       "      <td>[Osobowe, Volkswagen, CC]</td>\n",
       "      <td>12:55, 5 marca 2018</td>\n",
       "      <td>PLN</td>\n",
       "      <td>Cena Brutto, Do negocjacji</td>\n",
       "      <td>64500.0</td>\n",
       "      <td>Sieradz, sieradzki, Łódzkie</td>\n",
       "      <td>-1</td>\n",
       "      <td>Osoba prywatna</td>\n",
       "      <td>True</td>\n",
       "      <td>False</td>\n",
       "      <td>...</td>\n",
       "      <td>-1</td>\n",
       "      <td>Używane</td>\n",
       "      <td>-1</td>\n",
       "      <td>-1</td>\n",
       "      <td>-1</td>\n",
       "      <td>-1</td>\n",
       "      <td>-1</td>\n",
       "      <td>-1</td>\n",
       "      <td>-1</td>\n",
       "      <td>85811</td>\n",
       "    </tr>\n",
       "    <tr>\n",
       "      <th>127515</th>\n",
       "      <td>[Osobowe, BMW, Seria 2]</td>\n",
       "      <td>16:40, 3 marca 2018</td>\n",
       "      <td>PLN</td>\n",
       "      <td>Cena Brutto, Do negocjacji</td>\n",
       "      <td>99000.0</td>\n",
       "      <td>Łęczna, łęczyński, Lubelskie</td>\n",
       "      <td>-1</td>\n",
       "      <td>Osoba prywatna</td>\n",
       "      <td>True</td>\n",
       "      <td>True</td>\n",
       "      <td>...</td>\n",
       "      <td>-1</td>\n",
       "      <td>Używane</td>\n",
       "      <td>-1</td>\n",
       "      <td>-1</td>\n",
       "      <td>-1</td>\n",
       "      <td>-1</td>\n",
       "      <td>-1</td>\n",
       "      <td>-1</td>\n",
       "      <td>-1</td>\n",
       "      <td>127515</td>\n",
       "    </tr>\n",
       "    <tr>\n",
       "      <th>137658</th>\n",
       "      <td>[Osobowe, Ford, Fiesta, Ford Fiesta Mk7 (2008-)]</td>\n",
       "      <td>09:19, 5 marca 2018</td>\n",
       "      <td>PLN</td>\n",
       "      <td>-1</td>\n",
       "      <td>-1.0</td>\n",
       "      <td>Szczytno, szczycieński, Warmińsko-mazurskie</td>\n",
       "      <td>-1</td>\n",
       "      <td>Osoba prywatna</td>\n",
       "      <td>False</td>\n",
       "      <td>True</td>\n",
       "      <td>...</td>\n",
       "      <td>-1</td>\n",
       "      <td>Używane</td>\n",
       "      <td>Mk7 (2008-)</td>\n",
       "      <td>-1</td>\n",
       "      <td>-1</td>\n",
       "      <td>-1</td>\n",
       "      <td>Tak</td>\n",
       "      <td>-1</td>\n",
       "      <td>-1</td>\n",
       "      <td>137658</td>\n",
       "    </tr>\n",
       "    <tr>\n",
       "      <th>89762</th>\n",
       "      <td>[Osobowe, Audi, A3, Audi A3 8V (2012-)]</td>\n",
       "      <td>17:25, 4 marca 2018</td>\n",
       "      <td>PLN</td>\n",
       "      <td>-1</td>\n",
       "      <td>-1.0</td>\n",
       "      <td>Zelów, bełchatowski, Łódzkie</td>\n",
       "      <td>-1</td>\n",
       "      <td>Osoba prywatna</td>\n",
       "      <td>True</td>\n",
       "      <td>False</td>\n",
       "      <td>...</td>\n",
       "      <td>-1</td>\n",
       "      <td>Używane</td>\n",
       "      <td>8V (2012-)</td>\n",
       "      <td>-1</td>\n",
       "      <td>-1</td>\n",
       "      <td>-1</td>\n",
       "      <td>-1</td>\n",
       "      <td>-1</td>\n",
       "      <td>-1</td>\n",
       "      <td>89762</td>\n",
       "    </tr>\n",
       "  </tbody>\n",
       "</table>\n",
       "<p>5 rows × 155 columns</p>\n",
       "</div>"
      ],
      "text/plain": [
       "                                              breadcrumb           created_at  \\\n",
       "63668                          [Osobowe, Opel, Insignia]  07:54, 4 marca 2018   \n",
       "85811                          [Osobowe, Volkswagen, CC]  12:55, 5 marca 2018   \n",
       "127515                           [Osobowe, BMW, Seria 2]  16:40, 3 marca 2018   \n",
       "137658  [Osobowe, Ford, Fiesta, Ford Fiesta Mk7 (2008-)]  09:19, 5 marca 2018   \n",
       "89762            [Osobowe, Audi, A3, Audi A3 8V (2012-)]  17:25, 4 marca 2018   \n",
       "\n",
       "       price_currency               price_details  price_value  \\\n",
       "63668             PLN                 Cena Brutto      37900.0   \n",
       "85811             PLN  Cena Brutto, Do negocjacji      64500.0   \n",
       "127515            PLN  Cena Brutto, Do negocjacji      99000.0   \n",
       "137658            PLN                          -1         -1.0   \n",
       "89762             PLN                          -1         -1.0   \n",
       "\n",
       "                                           seller_address  \\\n",
       "63668   GROTA ROWECKIEGO 10 - 30-348 Kraków, Łagiewnik...   \n",
       "85811                         Sieradz, sieradzki, Łódzkie   \n",
       "127515                       Łęczna, łęczyński, Lubelskie   \n",
       "137658        Szczytno, szczycieński, Warmińsko-mazurskie   \n",
       "89762                        Zelów, bełchatowski, Łódzkie   \n",
       "\n",
       "                              seller_name     seller_type  \\\n",
       "63668   F.H. AUTO HIT Tomasz Wójcikiewicz          Dealer   \n",
       "85811                                  -1  Osoba prywatna   \n",
       "127515                                 -1  Osoba prywatna   \n",
       "137658                                 -1  Osoba prywatna   \n",
       "89762                                  -1  Osoba prywatna   \n",
       "\n",
       "        feature_czujniki-parkowania-przednie  \\\n",
       "63668                                  False   \n",
       "85811                                   True   \n",
       "127515                                  True   \n",
       "137658                                 False   \n",
       "89762                                   True   \n",
       "\n",
       "        feature_poduszka-powietrzna-chroniąca-kolana  ...  param_pearl  \\\n",
       "63668                                          False  ...           -1   \n",
       "85811                                          False  ...           -1   \n",
       "127515                                          True  ...           -1   \n",
       "137658                                          True  ...           -1   \n",
       "89762                                          False  ...           -1   \n",
       "\n",
       "        param_stan  param_wersja  param_emisja-co2  param_body-type  \\\n",
       "63668      Używane            -1                -1               -1   \n",
       "85811      Używane            -1                -1               -1   \n",
       "127515     Używane            -1                -1               -1   \n",
       "137658     Używane   Mk7 (2008-)                -1               -1   \n",
       "89762      Używane    8V (2012-)                -1               -1   \n",
       "\n",
       "        param_matowy  param_bezwypadkowy  param_akryl-(niemetalizowany)  \\\n",
       "63668             -1                 Tak                             -1   \n",
       "85811             -1                  -1                             -1   \n",
       "127515            -1                  -1                             -1   \n",
       "137658            -1                 Tak                             -1   \n",
       "89762             -1                  -1                             -1   \n",
       "\n",
       "        param_monthly-payment-value  car_id  \n",
       "63668                            -1   63668  \n",
       "85811                            -1   85811  \n",
       "127515                           -1  127515  \n",
       "137658                           -1  137658  \n",
       "89762                            -1   89762  \n",
       "\n",
       "[5 rows x 155 columns]"
      ]
     },
     "execution_count": 7,
     "metadata": {},
     "output_type": "execute_result"
    }
   ],
   "source": [
    "df_all.sample(5)"
   ]
  },
  {
   "cell_type": "code",
   "execution_count": 8,
   "metadata": {},
   "outputs": [],
   "source": [
    "# Usunięcie pierwszych sześciu kolumn. Choć zawierają one sporo ciekawych informacji na początek nie ma potrzeby wyciągania\n",
    "# dodatkowych cech z poszczególnych kolumn."
   ]
  },
  {
   "cell_type": "code",
   "execution_count": 9,
   "metadata": {},
   "outputs": [],
   "source": [
    "if 'breadcrumb' in df_all: del df_all['breadcrumb']\n",
    "if 'created_at' in df_all: del df_all['created_at']\n",
    "if 'seller_address' in df_all: del df_all['seller_address']\n",
    "if 'price_details' in df_all: del df_all['price_details']\n",
    "if 'seller_name' in df_all: del df_all['seller_name']\n",
    "if 'price_currency' in df_all: del df_all['price_currency']"
   ]
  },
  {
   "cell_type": "code",
   "execution_count": 10,
   "metadata": {},
   "outputs": [],
   "source": [
    "# Cześć danych dot. samochodów zapisana jest dwóch odpowiadających sobie nazwom kolumnach (POL, ENG).\n",
    "# Poniżej funkcja scalająca równoważne kolumny w jedną. Dzięki temu część braków danych zostanie uzupełniona."
   ]
  },
  {
   "cell_type": "code",
   "execution_count": 11,
   "metadata": {},
   "outputs": [],
   "source": [
    "def param(df, c1, c2):\n",
    "    for i in range (1, df.shape[0]):\n",
    "        if df.loc[i, c1] != -1:\n",
    "            return df.loc[i, c1] == df.loc[i, c1]\n",
    "        else:\n",
    "            return df.loc[i, c1] == df.loc[i, c2]"
   ]
  },
  {
   "cell_type": "code",
   "execution_count": 12,
   "metadata": {},
   "outputs": [
    {
     "data": {
      "text/plain": [
       "True"
      ]
     },
     "execution_count": 12,
     "metadata": {},
     "output_type": "execute_result"
    }
   ],
   "source": [
    "param(df_all, 'param_liczba-miejsc', 'param_nr-of-seats')\n",
    "param(df_all, 'param_liczba-drzwi', 'param_door-count')\n",
    "param(df_all, 'param_rok-produkcji', 'param_year')\n",
    "param(df_all, 'param_przebieg', 'param_mileage')\n",
    "param(df_all, 'param_pojemność-skokowa', 'param_engine-capacity')\n",
    "param(df_all, 'param_napęd', 'param_transmission ')\n",
    "param(df_all, 'param_rodzaj-paliwa', 'param_fuel-type')\n",
    "param(df_all, 'param_typ', 'param_body-type')\n",
    "param(df_all, 'param_wersja', 'param_version')\n",
    "param(df_all, 'param_oferta-od', 'seller_type')\n",
    "param(df_all, 'param_kraj-pochodzenia', 'param_country-of-origin')\n",
    "param(df_all, 'param_skrzynia-biegów', 'param_gearbox')\n",
    "param(df_all, 'param_kolor', 'param_color')\n",
    "param(df_all, 'param_uszkodzony', 'param_damaged')\n",
    "param(df_all, 'param_perłowy', 'param_pearl')\n",
    "param(df_all, 'param_metalik', 'param_metallic')\n",
    "param(df_all, 'param_pierwszy-właściciel', 'param_original-owner')\n",
    "param(df_all, 'param_zarejestrowany-w-polsce', 'param_registered-in-poland')\n",
    "param(df_all, 'param_bezwypadkowy', 'param_no-accident')\n",
    "param(df_all, 'param_filtr-cząstek-stałych', 'param_particle-filter')\n",
    "param(df_all, 'param_leasing', 'param_leasing-concession')\n",
    "param(df_all, 'param_akryl-(niemetalizowany)', 'param_acrylic')\n",
    "param(df_all, 'param_serwisowany-w-aso', 'param_service-record')\n",
    "param(df_all, 'param_marka-pojazdu', 'param_make')\n",
    "param(df_all, 'param_model-pojazdu', 'param_model')\n",
    "param(df_all, 'param_rodzaj-paliwa', 'param_fuel-type')\n",
    "param(df_all, 'param_moc', 'param_engine-power')"
   ]
  },
  {
   "cell_type": "code",
   "execution_count": 13,
   "metadata": {},
   "outputs": [],
   "source": [
    "# Dane zawierają cechy o nazwie feature np. klimatyzacja, elektryczne lusterka etc. Typ danych - bool.\n",
    "# Poniżej pętla konwertująca cechy bool na categorical oraz utworzenie cechy 'amenities', czyli udogodnienia, bo zakładamy,\n",
    "# że im więcej udogodnień tym droższy samochód."
   ]
  },
  {
   "cell_type": "code",
   "execution_count": 14,
   "metadata": {},
   "outputs": [],
   "source": [
    "cat_feats = df_all.select_dtypes(include=[np.bool]).columns\n",
    "\n",
    "for cat_feat in cat_feats:\n",
    "    df_all['{0}_cat'.format(cat_feat)] = df_all[cat_feat].factorize()[0]"
   ]
  },
  {
   "cell_type": "code",
   "execution_count": 15,
   "metadata": {},
   "outputs": [],
   "source": [
    "f_list = df_all[df_all.columns[pd.Series(df_all.columns).str.contains(\"feature\" and \"cat\")]]"
   ]
  },
  {
   "cell_type": "code",
   "execution_count": 16,
   "metadata": {},
   "outputs": [],
   "source": [
    "amenities = f_list.sum(axis = 1)\n",
    "df_all['amenities'] = amenities"
   ]
  },
  {
   "cell_type": "code",
   "execution_count": 17,
   "metadata": {},
   "outputs": [],
   "source": [
    "# Zbiór danych zawiera cechy, które mają wiele różnych klas w sobie.\n",
    "# Klasy te można pogrupować na podstawie np. wykresów cena vs. cecha."
   ]
  },
  {
   "cell_type": "code",
   "execution_count": 18,
   "metadata": {},
   "outputs": [],
   "source": [
    "top_drzwi = list(df_all['param_liczba-drzwi'].value_counts().head(5).keys())\n",
    "drzwi_norm = defaultdict(lambda: 'Other', dict(zip(top_drzwi, top_drzwi)))\n",
    "df_all['drzwi_norm'] = df_all['param_liczba-drzwi'].map(drzwi_norm)"
   ]
  },
  {
   "cell_type": "code",
   "execution_count": 19,
   "metadata": {},
   "outputs": [],
   "source": [
    "top_kraj = list(df_all['param_kraj-pochodzenia'].value_counts().head(12).keys())\n",
    "kraj_norm = defaultdict(lambda: 'Inny', dict(zip(top_kraj, top_kraj)))\n",
    "df_all['kraj_norm'] = df_all['param_kraj-pochodzenia'].map(kraj_norm)"
   ]
  },
  {
   "cell_type": "code",
   "execution_count": 20,
   "metadata": {},
   "outputs": [],
   "source": [
    "df_all['param_metalik'] = df_all['param_metalik'].replace(['metallic'],'Tak')"
   ]
  },
  {
   "cell_type": "code",
   "execution_count": 21,
   "metadata": {},
   "outputs": [],
   "source": [
    "df_all['param_typ'] = df_all['param_typ'].replace(['not enough details'],'others')\n",
    "df_all['param_typ'] = df_all['param_typ'].replace(['sedan/coupe/cabrio'],'others')\n",
    "df_all['param_typ'] = df_all['param_typ'].replace(['hatchback'],'Kompakt')\n",
    "df_all['param_typ'] = df_all['param_typ'].replace(['sedan/coupe'],'others')\n",
    "df_all['param_typ'] = df_all['param_typ'].replace(['coupe/cabrio'],'others')\n",
    "df_all['param_typ'] = df_all['param_typ'].replace(['minivan/city-car'],'others')\n",
    "df_all['param_typ'] = df_all['param_typ'].replace(['compact/minivan'],'others')\n",
    "df_all['param_typ'] = df_all['param_typ'].replace(['city-car/suv'],'others')\n",
    "df_all['param_typ'] = df_all['param_typ'].replace(['coupe/cabrio/minivan'],'others')\n",
    "df_all['param_typ'] = df_all['param_typ'].replace(['compact/sedan'],'others')"
   ]
  },
  {
   "cell_type": "code",
   "execution_count": 22,
   "metadata": {},
   "outputs": [],
   "source": [
    "df_all['param_moc'] = df_all.param_moc.str.replace('KM?' , '')\n",
    "df_all['param_moc'] = df_all.param_moc.str.replace(' ?' , '')\n",
    "df_all['param_moc_num'] = pd.to_numeric(df_all['param_moc'])\n",
    "cut_labels = ['Low', 'LowMid', 'Mid', 'LowHigh', 'MidHigh', 'High']\n",
    "cut_bins = [0, 100, 150, 200, 300, 500, 1000000]\n",
    "df_all['moc_bin'] = pd.cut(df_all['param_moc_num'], bins=cut_bins, labels=cut_labels)"
   ]
  },
  {
   "cell_type": "code",
   "execution_count": 23,
   "metadata": {},
   "outputs": [],
   "source": [
    "df_all['param_pojemność_skokowa'] = df_all['param_pojemność-skokowa']\n",
    "df_all['param_pojemność_skokowa']= df_all.param_pojemność_skokowa.str.replace('cm3?' , '')\n",
    "df_all['param_pojemność_skokowa']= df_all.param_pojemność_skokowa.str.replace(' ?' , '')\n",
    "df_all['pojemność_skokowa_num'] = pd.to_numeric(df_all['param_pojemność_skokowa'])\n",
    "cut_labels = ['Low', 'LowMid', 'Mid', 'LowHigh', 'High']\n",
    "cut_bins = [0, 1000, 1500, 2000, 3000, 9000]\n",
    "df_all['pojemność_skokowa_bin'] = pd.cut(df_all['pojemność_skokowa_num'], bins=cut_bins, labels=cut_labels)"
   ]
  },
  {
   "cell_type": "code",
   "execution_count": 24,
   "metadata": {},
   "outputs": [],
   "source": [
    "df_all['param_przebieg']= df_all.param_przebieg.str.replace('km?' , '')\n",
    "df_all['param_przebieg']= df_all.param_przebieg.str.replace(' ?' , '')\n",
    "df_all['przebieg_num'] = pd.to_numeric(df_all['param_przebieg'])\n",
    "cut_labels = ['Low', 'MidLow',  'Mid', 'MidHigh', 'High']\n",
    "cut_bins = [0, 100000, 150000, 200000, 300000, 1000000]\n",
    "df_all['przebieg_bin'] = pd.cut(df_all['przebieg_num'], bins=cut_bins, labels=cut_labels)"
   ]
  },
  {
   "cell_type": "code",
   "execution_count": 25,
   "metadata": {},
   "outputs": [],
   "source": [
    "df_all['param_rok-produkcji'] = pd.to_numeric(df_all['param_rok-produkcji'])\n",
    "df_all['param_rok-produkcji'] = df_all['param_rok-produkcji'].fillna(-1)\n",
    "df_all['wiek'] = 2019 - df_all['param_rok-produkcji']\n",
    "cut_labels = ['0-5', '5-10', '10-50', '50-100']\n",
    "cut_bins = [0, 5, 10, 50, 100]\n",
    "df_all['wiek_bin'] = pd.cut(df_all['wiek'], bins=cut_bins, labels=cut_labels)"
   ]
  },
  {
   "cell_type": "code",
   "execution_count": 26,
   "metadata": {},
   "outputs": [],
   "source": [
    "df_one = pd.get_dummies(df_all['moc_bin'], prefix='moc_km').head()\n",
    "df_all = pd.concat([df_all, df_one], axis=1)\n",
    "\n",
    "df_one = pd.get_dummies(df_all['pojemność_skokowa_bin'], prefix='pojemność_skokowa').head()\n",
    "df_all = pd.concat([df_all, df_one], axis=1)\n",
    "\n",
    "df_one = pd.get_dummies(df_all['przebieg_bin'], prefix='przebieg').head()\n",
    "df_all = pd.concat([df_all, df_one], axis=1)\n",
    "\n",
    "df_one = pd.get_dummies(df_all['kraj_norm'], prefix='kraj').head()\n",
    "df_all = pd.concat([df_all, df_one], axis=1)\n",
    "\n",
    "df_one = pd.get_dummies(df_all['drzwi_norm'], prefix='drzwi').head()\n",
    "df_all = pd.concat([df_all, df_one], axis=1)\n",
    "\n",
    "df_one = pd.get_dummies(df_all['param_kolor'], prefix='kolor').head()\n",
    "df_all = pd.concat([df_all, df_one], axis=1)\n",
    "\n",
    "df_one = pd.get_dummies(df_all['wiek_bin'], prefix='wiek').head()\n",
    "df_all = pd.concat([df_all, df_one], axis=1)\n",
    "\n",
    "df_one = pd.get_dummies(df_all['param_rodzaj-paliwa'], prefix='rodzaj_paliwa').head()\n",
    "df_all = pd.concat([df_all, df_one], axis=1)\n",
    "\n",
    "df_one = pd.get_dummies(df_all['param_skrzynia-biegów'], prefix='skrzynia_biegów').head()\n",
    "df_all = pd.concat([df_all, df_one], axis=1)\n",
    "\n",
    "df_one = pd.get_dummies(df_all['param_typ'], prefix='typ').head()\n",
    "df_all = pd.concat([df_all, df_one], axis=1)"
   ]
  },
  {
   "cell_type": "code",
   "execution_count": 27,
   "metadata": {},
   "outputs": [],
   "source": [
    "cat_feats = df_all.select_dtypes(include=[np.object]).columns\n",
    "\n",
    "for cat_feat in cat_feats:\n",
    "    df_all['{0}_cat'.format(cat_feat)] = df_all[cat_feat].factorize()[0]"
   ]
  },
  {
   "cell_type": "code",
   "execution_count": 28,
   "metadata": {},
   "outputs": [],
   "source": [
    "df_all['kraj_norm_cat'] = df_all['kraj_norm'].factorize()[0]\n",
    "df_all['drzwi_norm_cat'] = df_all['drzwi_norm'].factorize()[0]\n",
    "df_all['param_skrzynia-biegów_cat'] = df_all['param_skrzynia-biegów'].factorize()[0]\n",
    "df_all['param_kolor_cat'] = df_all['param_kolor'].factorize()[0]\n",
    "df_all['param_rodzaj-paliwa_cat'] = df_all['param_rodzaj-paliwa'].factorize()[0]\n",
    "df_all['przebieg_bin_cat'] = df_all['przebieg_bin'].factorize()[0]\n",
    "df_all['moc_bin_cat'] = df_all['moc_bin'].factorize()[0]\n",
    "df_all['pojemność_skokowa_bin_cat'] = df_all['pojemność_skokowa_bin'].factorize()[0]\n",
    "df_all['param_typ_cat'] = df_all['param_typ'].factorize()[0]\n",
    "df_all['wiek_bin_cat'] = df_all['wiek_bin'].factorize()[0]"
   ]
  },
  {
   "cell_type": "code",
   "execution_count": 29,
   "metadata": {},
   "outputs": [],
   "source": [
    "# Funkcja wyciągająca zbiór treningowy"
   ]
  },
  {
   "cell_type": "code",
   "execution_count": 30,
   "metadata": {},
   "outputs": [],
   "source": [
    "def get_train(df):\n",
    "    return df.loc[df['price_value'] >= 0]"
   ]
  },
  {
   "cell_type": "code",
   "execution_count": 31,
   "metadata": {},
   "outputs": [],
   "source": [
    "# Funkcja wyciągająca zbiór testowy"
   ]
  },
  {
   "cell_type": "code",
   "execution_count": 32,
   "metadata": {},
   "outputs": [],
   "source": [
    "def get_test(df):\n",
    "    return df.loc[df['price_value'] < 0]"
   ]
  },
  {
   "cell_type": "code",
   "execution_count": 33,
   "metadata": {},
   "outputs": [],
   "source": [
    "# Funkcja wygiącająca cechy brane do modelu"
   ]
  },
  {
   "cell_type": "code",
   "execution_count": 34,
   "metadata": {},
   "outputs": [],
   "source": [
    "def get_feats(df):\n",
    "    feats = df.select_dtypes(include=[np.int, np.int8, np.int16, np.int32, np.float, np.float32]).columns\n",
    "    black_list = ['car_id','price_value', 'price_log', 'feature_czujniki-parkowania-przednie_cat', 'feature_poduszka-powietrzna-chroniąca-kolana_cat', \n",
    " 'feature_kurtyny-powietrzne_cat', 'feature_klimatyzacja-dwustrefowa_cat', 'feature_światła-led_cat', 'feature_czujnik-zmierzchu_cat',\n",
    " 'feature_elektrycznie-ustawiane-lusterka_cat', 'feature_asr-(kontrola-trakcji)_cat', 'feature_poduszka-powietrzna-kierowcy_cat',\n",
    " 'feature_cd_cat', 'feature_elektryczne-szyby-przednie_cat', 'feature_poduszka-powietrzna-pasażera_cat', 'feature_system-start-stop_cat',\n",
    " 'feature_światła-do-jazdy-dziennej_cat', 'feature_komputer-pokładowy_cat', 'feature_elektryczne-szyby-tylne_cat', 'feature_klimatyzacja-manualna_cat',\n",
    " 'feature_tapicerka-welurowa_cat', 'feature_czujnik-deszczu_cat', 'feature_światła-przeciwmgielne_cat', 'feature_ogrzewanie-postojowe_cat',\n",
    " 'feature_radio-niefabryczne_cat', 'feature_regulowane-zawieszenie_cat', 'feature_ogranicznik-prędkości_cat', 'feature_zmieniarka-cd_cat',\n",
    " 'feature_szyberdach_cat', 'feature_isofix_cat', 'feature_asystent-pasa-ruchu_cat', 'feature_alufelgi_cat', 'feature_bluetooth_cat',\n",
    " 'feature_nawigacja-gps_cat', 'feature_asystent-parkowania_cat', 'feature_wspomaganie-kierownicy_cat', 'feature_podgrzewana-przednia-szyba_cat',\n",
    " 'feature_przyciemniane-szyby_cat', 'feature_elektrycznie-ustawiane-fotele_cat', 'feature_klimatyzacja-czterostrefowa_cat', 'feature_tuner-tv_cat',\n",
    " 'feature_poduszki-boczne-przednie_cat', 'feature_tempomat-aktywny_cat', 'feature_klimatyzacja-automatyczna_cat', 'feature_poduszki-boczne-tylne_cat',\n",
    " 'feature_radio-fabryczne_cat', 'feature_odtwarzacz-dvd_cat', 'feature_czujniki-parkowania-tylne_cat', 'feature_łopatki-zmiany-biegów_cat',\n",
    " 'feature_centralny-zamek_cat', 'feature_dach-panoramiczny_cat', 'feature_kamera-cofania_cat', 'feature_immobilizer_cat', 'feature_czujnik-martwego-pola_cat',\n",
    " 'feature_gniazdo-sd_cat', 'feature_podgrzewane-lusterka-boczne_cat', 'feature_podgrzewane-przednie-siedzenia_cat', 'feature_hak_cat',\n",
    " 'feature_abs_cat', 'feature_wielofunkcyjna-kierownica_cat', 'feature_światła-xenonowe_cat', 'feature_gniazdo-usb_cat', 'feature_tapicerka-skórzana_cat',\n",
    " 'feature_gniazdo-aux_cat', 'feature_esp-(stabilizacja-toru-jazdy)_cat', 'feature_alarm_cat', 'feature_podgrzewane-tylne-siedzenia_cat',\n",
    " 'feature_mp3_cat', 'feature_tempomat_cat', 'feature_hud-(wyświetlacz-przezierny)_cat', 'feature_elektrochromatyczne-lusterko-wsteczne_cat',\n",
    " 'feature_relingi-dachowe_cat', 'feature_elektrochromatyczne-lusterka-boczne_cat', 'param_moc_num', 'pojemność_skokowa_num', 'przebieg_num',\n",
    " 'wiek', 'param_engine-code_cat', 'param_first-registration_cat', 'param_country-of-origin_cat', 'param_gearbox_cat', 'param_faktura-vat_cat', 'param_vin_cat',\n",
    " 'param_service-record_cat', 'param_metallic_cat', 'param_leasing-concession_cat', 'param_color_cat', 'param_financing-option_cat', 'param_original-owner_cat',\n",
    " 'param_vat-marża_cat', 'param_co2-emissions_cat', 'param_leasing_cat', 'param_mileage_cat', 'param_wartość-wykupu_cat', 'param_vat-discount_cat',\n",
    " 'param_no-accident_cat', 'param_liczba-pozostałych-rat_cat', 'param_particle-filter_cat', 'param_oferta-od_cat', 'param_make_cat', 'param_engine-power_cat',\n",
    " 'param_year_cat', 'param_możliwość-finansowania_cat', 'param_registered-in-poland_cat', 'param_transmission_cat', 'param_miesięczna-rata_cat',\n",
    " 'param_kod-silnika_cat', 'param_version_cat', 'param_opłata-początkowa_cat', 'param_fuel-type_cat', 'param_vat-free_cat', 'param_acrylic_cat', 'param_damaged_cat',\n",
    " 'param_door-count_cat', 'param_tuning_cat', 'param_filtr-cząstek-stałych_cat', 'param_nr-of-seats_cat', 'param_engine-capacity_cat', 'param_pearl_cat',\n",
    " 'param_emisja-co2_cat', 'param_body-type_cat', 'param_monthly-payment-value_cat', 'kraj_-1', 'kraj_Austria', 'kraj_Belgia', 'kraj_Francja', 'kraj_Holandia',\n",
    " 'kraj_Inny', 'kraj_Niemcy', 'kraj_Polska', 'kraj_Stany Zjednoczone', 'kraj_Szwajcaria', 'kraj_Wielka Brytania', 'kraj_Włochy', 'drzwi_-1', 'drzwi_2', 'drzwi_3',\n",
    " 'drzwi_4', 'drzwi_5', 'drzwi_Other', 'kolor_-1', 'kolor_Beżowy', 'kolor_Biały', 'kolor_Bordowy', 'kolor_Brązowy', 'kolor_Czarny', 'kolor_Czerwony', 'kolor_Fioletowy',\n",
    " 'kolor_Inny kolor', 'kolor_Niebieski', 'kolor_Srebrny', 'kolor_Szary', 'kolor_Zielony', 'kolor_Złoty', 'kolor_Żółty', 'rodzaj_paliwa_-1', 'rodzaj_paliwa_Benzyna',\n",
    " 'rodzaj_paliwa_Benzyna+CNG', 'rodzaj_paliwa_Benzyna+LPG', 'rodzaj_paliwa_Diesel', 'rodzaj_paliwa_Elektryczny', 'rodzaj_paliwa_Etanol', 'rodzaj_paliwa_Hybryda', \n",
    " 'rodzaj_paliwa_Wodór', 'skrzynia_biegów_-1', 'skrzynia_biegów_Automatyczna bezstopniowa (CVT)', 'skrzynia_biegów_Automatyczna dwusprzęgłowa (DCT, DSG)',\n",
    " 'skrzynia_biegów_Automatyczna hydrauliczna (klasyczna)', 'skrzynia_biegów_Manualna', 'skrzynia_biegów_Półautomatyczna (ASG, Tiptronic)',\n",
    " 'typ_-1', 'typ_Auta małe', 'typ_Auta miejskie', 'typ_Coupe', 'typ_Kabriolet', 'typ_Kombi', 'typ_Kompakt', 'typ_Minivan', 'typ_SUV', 'typ_Sedan',\n",
    " 'typ_others']\n",
    "    return [x for x in feats if x not in black_list]"
   ]
  },
  {
   "cell_type": "code",
   "execution_count": 35,
   "metadata": {},
   "outputs": [],
   "source": [
    "# Funkcja wyciągająca X i y do trenowania modeli"
   ]
  },
  {
   "cell_type": "code",
   "execution_count": 36,
   "metadata": {},
   "outputs": [],
   "source": [
    "def get_X(df, feat_fn=get_feats):\n",
    "    return df[feat_fn(df)].values\n",
    "\n",
    "def get_y(df, target_var='price_value'):\n",
    "    return df[target_var].values"
   ]
  },
  {
   "cell_type": "code",
   "execution_count": 37,
   "metadata": {},
   "outputs": [],
   "source": [
    "# Funkcja wczytująca model"
   ]
  },
  {
   "cell_type": "code",
   "execution_count": 38,
   "metadata": {},
   "outputs": [],
   "source": [
    "def get_models():\n",
    "    return [ ('dummy_median', DummyRegressor(strategy='median')) ]"
   ]
  },
  {
   "cell_type": "code",
   "execution_count": 39,
   "metadata": {},
   "outputs": [],
   "source": [
    "# Funkcja do testowania modeli i cech, rysowania krzywej uczenia oraz trenowania/predykcji końcowej. "
   ]
  },
  {
   "cell_type": "code",
   "execution_count": 40,
   "metadata": {},
   "outputs": [],
   "source": [
    "def run_cv(model, X, y, folds=4, target_log=False,cv_type=KFold, success_metric=mean_absolute_error):\n",
    "    cv = cv_type(n_splits=folds)\n",
    "    \n",
    "    scores = []\n",
    "    for train_idx, test_idx in cv.split(X):\n",
    "        X_train, X_test = X[train_idx], X[test_idx]\n",
    "        y_train, y_test = y[train_idx], y[test_idx]\n",
    "\n",
    "        if target_log:\n",
    "            y_train = np.log(y_train)\n",
    "        \n",
    "        print(f'Fitting model (fold: {len(scores) + 1})')\n",
    "        model.fit(X_train, y_train)\n",
    "        y_pred = model.predict(X_test)\n",
    "        \n",
    "        if target_log:\n",
    "            y_pred = np.exp(y_pred)\n",
    "            y_pred[y_pred < 0] = 0 #czasem może być wartość ujemna\n",
    "\n",
    "        score = success_metric(y_test, y_pred)\n",
    "        scores.append( score )\n",
    "        \n",
    "    return np.mean(scores), np.std(scores)"
   ]
  },
  {
   "cell_type": "code",
   "execution_count": 41,
   "metadata": {},
   "outputs": [],
   "source": [
    "def plot_learning_curve(model, title, X, y, ylim=None, cv=None, n_jobs=1, train_sizes=np.linspace(.1, 1.0, 5), target_log=False, success_metric=mean_absolute_error):\n",
    "    plt.figure(figsize=(12,8))\n",
    "    plt.title(title)\n",
    "    if ylim is not None: plt.ylim(*ylim)\n",
    "\n",
    "    plt.xlabel(\"Training examples\")\n",
    "    plt.ylabel(\"Score\")\n",
    "    \n",
    "    if target_log:\n",
    "        y = np.log(y)\n",
    "    \n",
    "    def my_scorer(model, X, y):\n",
    "        y_pred = model.predict(X)\n",
    "        \n",
    "        if target_log:\n",
    "            y = np.exp(y)\n",
    "            y_pred = np.exp(y_pred)\n",
    "            y_pred[ y_pred<0 ] = 0\n",
    "        \n",
    "        return success_metric(y, y_pred)\n",
    "\n",
    "        \n",
    "    train_sizes, train_scores, test_scores = learning_curve(model, X, y, cv=cv, n_jobs=n_jobs, train_sizes=train_sizes, scoring=my_scorer)\n",
    "    train_scores_mean = np.mean(train_scores, axis=1)\n",
    "    train_scores_std = np.std(train_scores, axis=1)\n",
    "    test_scores_mean = np.mean(test_scores, axis=1)\n",
    "    test_scores_std = np.std(test_scores, axis=1)\n",
    "    plt.grid()\n",
    "\n",
    "    plt.fill_between(train_sizes, train_scores_mean - train_scores_std, train_scores_mean + train_scores_std, alpha=0.1, color=\"r\")\n",
    "    plt.fill_between(train_sizes, test_scores_mean - test_scores_std,  test_scores_mean + test_scores_std, alpha=0.1, color=\"g\")\n",
    "    plt.plot(train_sizes, train_scores_mean, 'o-', color=\"r\", label=\"Training score\")\n",
    "    plt.plot(train_sizes, test_scores_mean, 'o-', color=\"g\", label=\"Cross-validation score\")\n",
    "\n",
    "    plt.legend(loc=\"best\")\n",
    "    return plt\n",
    "\n",
    "\n",
    "def run(df, plot_lc=False, folds=3, ylim=(0, 10000), target_log=False, feats=get_feats, success_metric=mean_absolute_error):\n",
    "    X, y = get_X(df, feats), get_y(df)\n",
    "\n",
    "    for model_name, model in get_models():\n",
    "        score_mean, score_std = run_cv(model, X, y, folds=folds, target_log=target_log, success_metric=success_metric)\n",
    "        print(\"[{0}]: {1} +/-{2}\".format(model_name, score_mean, score_std))\n",
    "        sys.stdout.flush() #wypisujemy wynik natychmiast, bez buforowania\n",
    "\n",
    "        if False == plot_lc: continue\n",
    "        plt = plot_learning_curve(model, model_name, X, y, ylim=ylim, cv=folds, target_log=target_log, n_jobs=3, success_metric=success_metric)\n",
    "        plt.show()"
   ]
  },
  {
   "cell_type": "code",
   "execution_count": 42,
   "metadata": {},
   "outputs": [],
   "source": [
    "def train_and_predict(train_new, test_new, model, target_log=False, feats=get_feats):\n",
    "    \n",
    "    X_train, X_test = get_X(train_new, feats), get_X(test_new, feats)\n",
    "    y_train = get_y(train_new)\n",
    "    \n",
    "    print(sorted(list(feats(train_new))))\n",
    "    \n",
    "    if target_log:\n",
    "        y_train = np.log(y_train)\n",
    "\n",
    "    model.fit(X_train, y_train)\n",
    "    y_pred = model.predict(X_test)\n",
    "        \n",
    "    if target_log:\n",
    "        y_pred = np.exp(y_pred)\n",
    "\n",
    "    global_min = train.price_value.min()\n",
    "    y_pred[y_pred < global_min] = global_min\n",
    "\n",
    "    test_new['price_value'] = y_pred\n",
    "    \n",
    "    return test_new[['car_id', 'price_value']] "
   ]
  },
  {
   "cell_type": "code",
   "execution_count": 43,
   "metadata": {},
   "outputs": [],
   "source": [
    "# Trenowanie modeli: CatBoost do szybkiego sprawdzenia hipotez, XGBoost do ostatecznego trenowania na całym zbiorze danych."
   ]
  },
  {
   "cell_type": "code",
   "execution_count": 44,
   "metadata": {},
   "outputs": [],
   "source": [
    "train_new = get_train(df_all)"
   ]
  },
  {
   "cell_type": "code",
   "execution_count": 45,
   "metadata": {},
   "outputs": [],
   "source": [
    "test_new = get_test(df_all)"
   ]
  },
  {
   "cell_type": "code",
   "execution_count": 46,
   "metadata": {},
   "outputs": [
    {
     "name": "stderr",
     "output_type": "stream",
     "text": [
      "/home/conda/anaconda3/lib/python3.7/site-packages/ipykernel_launcher.py:1: SettingWithCopyWarning: \n",
      "A value is trying to be set on a copy of a slice from a DataFrame.\n",
      "Try using .loc[row_indexer,col_indexer] = value instead\n",
      "\n",
      "See the caveats in the documentation: https://pandas.pydata.org/pandas-docs/stable/user_guide/indexing.html#returning-a-view-versus-a-copy\n",
      "  \"\"\"Entry point for launching an IPython kernel.\n"
     ]
    }
   ],
   "source": [
    "train_new['price_log'] = np.log(train_new['price_value']) # logarytmowanie targetu w celu poprawienia rozkładu"
   ]
  },
  {
   "cell_type": "code",
   "execution_count": 47,
   "metadata": {
    "scrolled": false
   },
   "outputs": [],
   "source": [
    "feats = get_feats(df_all)"
   ]
  },
  {
   "cell_type": "code",
   "execution_count": 48,
   "metadata": {},
   "outputs": [],
   "source": [
    "X_train, y_train = get_X(train_new), get_y(train_new)"
   ]
  },
  {
   "cell_type": "code",
   "execution_count": 49,
   "metadata": {},
   "outputs": [
    {
     "name": "stdout",
     "output_type": "stream",
     "text": [
      "Fitting model (fold: 1)\n",
      "Fitting model (fold: 2)\n",
      "Fitting model (fold: 3)\n",
      "[cb]: 7195.535964478507 +/-80.91716139858057\n"
     ]
    }
   ],
   "source": [
    "cb_params = dict(iterations=2000, verbose=False)\n",
    "\n",
    "def get_models():\n",
    "    return [('cb', CatBoostRegressor(**cb_params))]\n",
    "\n",
    "run(train_new, plot_lc=False, ylim=(0, 10000), folds=3, target_log=True, feats=get_feats)"
   ]
  },
  {
   "cell_type": "code",
   "execution_count": 50,
   "metadata": {},
   "outputs": [],
   "source": [
    "xgb_params = {\n",
    "    'max_depth': 20,\n",
    "    'n_estimators': 10000,\n",
    "    'learning_rate': 0.01,\n",
    "    'random_state': 0,\n",
    "    'subsample': 0.9,\n",
    "    'colsample_bytree': 0.5,\n",
    "}"
   ]
  },
  {
   "cell_type": "code",
   "execution_count": 51,
   "metadata": {},
   "outputs": [
    {
     "name": "stdout",
     "output_type": "stream",
     "text": [
      "Fitting model (fold: 1)\n",
      "Fitting model (fold: 2)\n",
      "Fitting model (fold: 3)\n",
      "[xgb]: 6516.479719016319 +/-101.55447135370515\n"
     ]
    }
   ],
   "source": [
    "def get_models():\n",
    "    return [('xgb', xgb.XGBRegressor(**xgb_params))]\n",
    "\n",
    "run(train_new, plot_lc=False, ylim=(0, 10000), folds=3, target_log=True, feats=get_feats)"
   ]
  },
  {
   "cell_type": "code",
   "execution_count": 52,
   "metadata": {},
   "outputs": [],
   "source": [
    "model = xgb.XGBRegressor(**xgb_params)"
   ]
  },
  {
   "cell_type": "code",
   "execution_count": 53,
   "metadata": {},
   "outputs": [
    {
     "name": "stdout",
     "output_type": "stream",
     "text": [
      "['amenities', 'drzwi_norm_cat', 'kraj_norm_cat', 'moc_bin_cat', 'moc_km_High', 'moc_km_Low', 'moc_km_LowHigh', 'moc_km_LowMid', 'moc_km_Mid', 'moc_km_MidHigh', 'param_akryl-(niemetalizowany)_cat', 'param_bezwypadkowy_cat', 'param_homologacja-ciężarowa_cat', 'param_kategoria_cat', 'param_kierownica-po-prawej-(anglik)_cat', 'param_kolor_cat', 'param_kraj-pochodzenia_cat', 'param_liczba-drzwi_cat', 'param_liczba-miejsc_cat', 'param_marka-pojazdu_cat', 'param_matowy_cat', 'param_metalik_cat', 'param_moc_cat', 'param_model-pojazdu_cat', 'param_model_cat', 'param_napęd_cat', 'param_perłowy_cat', 'param_pierwsza-rejestracja_cat', 'param_pierwszy-właściciel_cat', 'param_pojemność-skokowa_cat', 'param_pojemność_skokowa_cat', 'param_przebieg_cat', 'param_rodzaj-paliwa_cat', 'param_rok-produkcji', 'param_serwisowany-w-aso_cat', 'param_skrzynia-biegów_cat', 'param_stan_cat', 'param_typ_cat', 'param_uszkodzony_cat', 'param_wersja_cat', 'param_zarejestrowany-jako-zabytek_cat', 'param_zarejestrowany-w-polsce_cat', 'pojemność_skokowa_High', 'pojemność_skokowa_Low', 'pojemność_skokowa_LowHigh', 'pojemność_skokowa_LowMid', 'pojemność_skokowa_Mid', 'pojemność_skokowa_bin_cat', 'przebieg_High', 'przebieg_Low', 'przebieg_Mid', 'przebieg_MidHigh', 'przebieg_MidLow', 'przebieg_bin_cat', 'seller_type_cat', 'wiek_0-5', 'wiek_10-50', 'wiek_5-10', 'wiek_50-100', 'wiek_bin_cat']\n"
     ]
    },
    {
     "name": "stderr",
     "output_type": "stream",
     "text": [
      "/home/conda/anaconda3/lib/python3.7/site-packages/ipykernel_launcher.py:20: SettingWithCopyWarning: \n",
      "A value is trying to be set on a copy of a slice from a DataFrame.\n",
      "Try using .loc[row_indexer,col_indexer] = value instead\n",
      "\n",
      "See the caveats in the documentation: https://pandas.pydata.org/pandas-docs/stable/user_guide/indexing.html#returning-a-view-versus-a-copy\n"
     ]
    }
   ],
   "source": [
    "final = train_and_predict(train_new, test_new, model, target_log=True, feats=get_feats)"
   ]
  },
  {
   "cell_type": "code",
   "execution_count": 54,
   "metadata": {},
   "outputs": [],
   "source": [
    "final.to_csv('final_car_price.csv', index=False)"
   ]
  },
  {
   "cell_type": "code",
   "execution_count": 55,
   "metadata": {},
   "outputs": [],
   "source": [
    "# Wynik na Kaggle ostatecznie to 6043.39861 więc całkiem nieźle, biorą pod uwagę fakt usunięcia pierwszych sześciu kolumn,\n",
    "# z których można wyciągnąć jeszcze trochę informacji, które mogą pomóć w douczeniu modelu."
   ]
  },
  {
   "cell_type": "code",
   "execution_count": null,
   "metadata": {},
   "outputs": [],
   "source": []
  }
 ],
 "metadata": {
  "kernelspec": {
   "display_name": "Python 3",
   "language": "python",
   "name": "python3"
  },
  "language_info": {
   "codemirror_mode": {
    "name": "ipython",
    "version": 3
   },
   "file_extension": ".py",
   "mimetype": "text/x-python",
   "name": "python",
   "nbconvert_exporter": "python",
   "pygments_lexer": "ipython3",
   "version": "3.7.6"
  }
 },
 "nbformat": 4,
 "nbformat_minor": 4
}
